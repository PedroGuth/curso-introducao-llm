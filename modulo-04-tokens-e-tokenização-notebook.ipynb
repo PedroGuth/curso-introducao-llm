{
  "nbformat": 4,
  "nbformat_minor": 0,
  "metadata": {
    "colab": {
      "provenance": []
    },
    "kernelspec": {
      "name": "python3",
      "display_name": "Python 3"
    },
    "language_info": {
      "name": "python"
    }
  },
  "cells": [
    {
      "cell_type": "markdown",
      "metadata": {},
      "source": [
        "# 🎯 Módulo 4: Desvendando os Tokens - O DNA das LLMs!\n\n**Curso: Introdução à LLMs**\n\n*By Pedro Nunes Guth*\n\n---\n\n![](/Users/pedroguth/Downloads/Projetos/Book Maker/5-Imagens/introdução-à-llms-modulo-04_img_01.png)\n\nE aí, pessoal! Bora mergulhar no mundo dos **tokens**? 🚀\n\nLembra quando falamos sobre a arquitetura Transformer no módulo anterior? Pois é, chegou a hora de entender como as LLMs realmente \"enxergam\" o texto que você manda pra elas!\n\nTá, mas o que é um token afinal? 🤔"
      ]
    },
    {
      "cell_type": "markdown",
      "metadata": {},
      "source": [
        "## 🧠 O que são Tokens?\n\n**Token** é basicamente a \"moeda\" que as LLMs usam pra processar texto. Imagina que você tem um sanduíche gigante e precisa cortar ele em pedaços menores pra conseguir comer. Os tokens são esses pedaços!\n\n### Por que não processar palavra por palavra?\n\nPensa comigo:\n- E se eu escrever \"anti-inflamatório\"? São 2 palavras ou 1?\n- E \"João\"? Como a IA vai saber que é um nome?\n- E emojis? 😎🔥\n\nPor isso a tokenização é **FUNDAMENTAL** pras LLMs!\n\n### Tipos de Tokens:\n1. **Subword tokens** - Pedaços de palavras\n2. **Word tokens** - Palavras completas\n3. **Character tokens** - Caracteres individuais\n4. **Tokens especiais** - [CLS], [SEP], etc.\n\n**Dica do Pedro:** A maioria das LLMs modernas usa subword tokenization. É tipo cortar o sanduíche em pedaços que fazem sentido! 🥪"
      ]
    },
    {
      "cell_type": "code",
      "execution_count": null,
      "metadata": {},
      "outputs": [],
      "source": [
        "# Vamos começar com os imports necessários!\n# Bora instalar e importar as bibliotecas que vamos usar\n\n!pip install transformers tiktoken matplotlib seaborn wordcloud\n\nimport numpy as np\nimport matplotlib.pyplot as plt\nimport seaborn as sns\nfrom collections import Counter\nimport re\nimport json\nfrom wordcloud import WordCloud\n\n# Configurações visuais\nplt.style.use('default')\nsns.set_palette(\"husl\")\nplt.rcParams['figure.figsize'] = (12, 8)\nplt.rcParams['font.size'] = 12\n\nprint(\"📚 Bibliotecas carregadas com sucesso!\")\nprint(\"🚀 Bora tokenizar!\")"
      ]
    },
    {
      "cell_type": "markdown",
      "metadata": {},
      "source": [
        "## 🔄 Processo de Tokenização\n\nA tokenização acontece em algumas etapas. Vou explicar usando uma analogia bem brasileira:\n\n```mermaid\ngraph TD\n    A[\"Texto: 'Vai, Brasil! 🇧🇷'\"] --> B[Pré-processamento]\n    B --> C[Normalização]\n    C --> D[Aplicar Algoritmo]\n    D --> E[\"Tokens: ['Vai', ',', 'Brasil', '!', '🇧🇷']\"]\n    E --> F[IDs Numéricos]\n    F --> G[\"[1234, 45, 789, 23, 9876]\"]\n```\n\n### Etapas da Tokenização:\n\n1. **Pré-processamento**: Limpar o texto\n2. **Normalização**: Converter maiúsculas, remover acentos (às vezes)\n3. **Aplicar algoritmo**: BPE, WordPiece, SentencePiece\n4. **Converter para IDs**: Cada token vira um número\n\n**Importante**: Cada modelo tem seu próprio vocabulário de tokens!"
      ]
    },
    {
      "cell_type": "code",
      "execution_count": null,
      "metadata": {},
      "outputs": [],
      "source": [
        "# Vamos criar um tokenizador simples pra entender o conceito\n\nclass TokenizadorSimples:\n    def __init__(self):\n        self.vocab = {}\n        self.token_to_id = {}\n        self.id_to_token = {}\n        \n    def treinar(self, textos):\n        \"\"\"Treina o tokenizador com uma lista de textos\"\"\"\n        print(\"🏋️ Treinando o tokenizador...\")\n        \n        # Coleta todos os caracteres únicos\n        chars = set()\n        for texto in textos:\n            chars.update(list(texto.lower()))\n        \n        # Cria vocabulário\n        tokens_especiais = ['<pad>', '<unk>', '<start>', '<end>']\n        self.vocab = tokens_especiais + sorted(list(chars))\n        \n        # Cria mapeamentos\n        self.token_to_id = {token: i for i, token in enumerate(self.vocab)}\n        self.id_to_token = {i: token for i, token in enumerate(self.vocab)}\n        \n        print(f\"✅ Vocabulário criado com {len(self.vocab)} tokens!\")\n        print(f\"📋 Primeiros 10 tokens: {self.vocab[:10]}\")\n        \n    def tokenizar(self, texto):\n        \"\"\"Tokeniza um texto em caracteres\"\"\"\n        tokens = []\n        for char in texto.lower():\n            if char in self.token_to_id:\n                tokens.append(char)\n            else:\n                tokens.append('<unk>')  # Token desconhecido\n        return tokens\n    \n    def encode(self, texto):\n        \"\"\"Converte texto em IDs\"\"\"\n        tokens = self.tokenizar(texto)\n        return [self.token_to_id[token] for token in tokens]\n    \n    def decode(self, ids):\n        \"\"\"Converte IDs de volta para texto\"\"\"\n        tokens = [self.id_to_token[id] for id in ids]\n        return ''.join(tokens)\n\n# Teste do nosso tokenizador\ntextos_treino = [\n    \"Olá, mundo!\",\n    \"Python é incrível\",\n    \"Inteligência Artificial\",\n    \"Tokens são importantes\"\n]\n\ntokenizador = TokenizadorSimples()\ntokenizador.treinar(textos_treino)\n\n# Testando\ntexto_teste = \"Olá, IA!\"\nprint(f\"\\n🔍 Texto original: '{texto_teste}'\")\nprint(f\"🎯 Tokens: {tokenizador.tokenizar(texto_teste)}\")\nprint(f\"🔢 IDs: {tokenizador.encode(texto_teste)}\")\nprint(f\"🔄 Decodificado: '{tokenizador.decode(tokenizador.encode(texto_teste))}'\")"
      ]
    },
    {
      "cell_type": "markdown",
      "metadata": {},
      "source": [
        "## 🧬 Algoritmos de Tokenização\n\nAgora vamos falar dos algoritmos que as LLMs de verdade usam! São mais sofisticados que o nosso exemplo anterior.\n\n### 1. **Byte Pair Encoding (BPE)**\nUsado pelo GPT! Funciona assim:\n- Começa com caracteres individuais\n- Vai juntando os pares mais frequentes\n- Tipo montar palavras com Lego! 🧱\n\n### 2. **WordPiece**\nUsado pelo BERT! Similar ao BPE, mas:\n- Usa probabilidade pra decidir as junções\n- Prefere subwords que maximizam a verossimilhança\n\n### 3. **SentencePiece**\nUsado pelo T5! O mais moderno:\n- Trata o texto como sequência de bytes\n- Não precisa de pré-processamento\n- Funciona com qualquer idioma!\n\n**Dica do Pedro:** Cada algoritmo tem suas vantagens. O SentencePiece é tipo o \"canivete suíço\" da tokenização! 🔧"
      ]
    },
    {
      "cell_type": "code",
      "execution_count": null,
      "metadata": {},
      "outputs": [],
      "source": [
        "# Vamos implementar um BPE simplificado pra entender o conceito!\n\nclass BPESimplificado:\n    def __init__(self, num_merges=100):\n        self.num_merges = num_merges\n        self.vocab = set()\n        self.merges = []\n        \n    def get_stats(self, vocab):\n        \"\"\"Conta frequência de pares consecutivos\"\"\"\n        pairs = {}\n        for word, freq in vocab.items():\n            symbols = word.split()\n            for i in range(len(symbols) - 1):\n                pair = (symbols[i], symbols[i + 1])\n                pairs[pair] = pairs.get(pair, 0) + freq\n        return pairs\n    \n    def merge_vocab(self, pair, v_in):\n        \"\"\"Faz o merge de um par no vocabulário\"\"\"\n        v_out = {}\n        bigram = ' '.join(pair)\n        replacement = ''.join(pair)\n        \n        for word in v_in:\n            new_word = word.replace(bigram, replacement)\n            v_out[new_word] = v_in[word]\n        return v_out\n    \n    def treinar(self, textos):\n        \"\"\"Treina o BPE\"\"\"\n        print(\"🚀 Iniciando treinamento BPE...\")\n        \n        # Prepara vocabulário inicial (palavras como caracteres separados)\n        vocab = {}\n        for texto in textos:\n            palavras = texto.lower().split()\n            for palavra in palavras:\n                # Adiciona espaço entre caracteres + </w> no final\n                palavra_tokenizada = ' '.join(list(palavra)) + ' </w>'\n                vocab[palavra_tokenizada] = vocab.get(palavra_tokenizada, 0) + 1\n        \n        print(f\"📊 Vocabulário inicial: {len(vocab)} palavras\")\n        \n        # Executa merges\n        for i in range(self.num_merges):\n            pairs = self.get_stats(vocab)\n            if not pairs:\n                break\n                \n            # Pega o par mais frequente\n            best_pair = max(pairs, key=pairs.get)\n            vocab = self.merge_vocab(best_pair, vocab)\n            self.merges.append(best_pair)\n            \n            if i % 20 == 0:\n                print(f\"🔄 Merge {i}: {best_pair} (freq: {pairs[best_pair]})\")\n        \n        # Extrai vocabulário final\n        self.vocab = set()\n        for word in vocab:\n            self.vocab.update(word.split())\n            \n        print(f\"✅ Treinamento concluído!\")\n        print(f\"📈 Vocabulário final: {len(self.vocab)} tokens\")\n        print(f\"🔧 Merges realizados: {len(self.merges)}\")\n        \n        return self.vocab, self.merges\n\n# Teste do BPE\ntextos_bpe = [\n    \"inteligência artificial é incrível\",\n    \"processamento de linguagem natural\",\n    \"transformers revolucionaram a área\",\n    \"tokenização é fundamental\",\n    \"artificial intelligence rocks\"\n]\n\nbpe = BPESimplificado(num_merges=50)\nvocab_final, merges = bpe.treinar(textos_bpe)\n\nprint(f\"\\n🎯 Alguns tokens aprendidos:\")\nfor i, token in enumerate(sorted(list(vocab_final))[:15]):\n    print(f\"  {i+1}. '{token}'\")"
      ]
    },
    {
      "cell_type": "code",
      "execution_count": null,
      "metadata": {},
      "outputs": [],
      "source": [
        "# Vamos visualizar como diferentes tokenizadores funcionam na prática!\n\nfrom transformers import AutoTokenizer\nimport tiktoken\n\n# Carrega diferentes tokenizadores\nprint(\"📥 Carregando tokenizadores famosos...\")\n\n# BERT (WordPiece)\nbert_tokenizer = AutoTokenizer.from_pretrained('bert-base-uncased')\n\n# GPT-2 (BPE)\ngpt2_tokenizer = AutoTokenizer.from_pretrained('gpt2')\n\n# GPT-4 (tiktoken)\ntry:\n    gpt4_tokenizer = tiktoken.encoding_for_model(\"gpt-4\")\nexcept:\n    gpt4_tokenizer = tiktoken.get_encoding(\"cl100k_base\")  # Fallback\n\nprint(\"✅ Tokenizadores carregados!\")\n\n# Texto de teste em português\ntexto_br = \"Inteligência artificial está revolucionando o Brasil! 🇧🇷\"\n\nprint(f\"\\n🎯 Texto de teste: '{texto_br}'\\n\")\n\n# Compara tokenizações\nprint(\"🔍 BERT (WordPiece):\")\nbert_tokens = bert_tokenizer.tokenize(texto_br)\nprint(f\"  Tokens: {bert_tokens}\")\nprint(f\"  Quantidade: {len(bert_tokens)} tokens\")\n\nprint(\"\\n🔍 GPT-2 (BPE):\")\ngpt2_tokens = gpt2_tokenizer.tokenize(texto_br)\nprint(f\"  Tokens: {gpt2_tokens}\")\nprint(f\"  Quantidade: {len(gpt2_tokens)} tokens\")\n\nprint(\"\\n🔍 GPT-4 (tiktoken):\")\ngpt4_tokens = [gpt4_tokenizer.decode([token]) for token in gpt4_tokenizer.encode(texto_br)]\nprint(f\"  Tokens: {gpt4_tokens}\")\nprint(f\"  Quantidade: {len(gpt4_tokens)} tokens\")\n\n# Análise dos resultados\nprint(\"\\n📊 Análise:\")\nprint(f\"  BERT quebrou em {len(bert_tokens)} pedaços\")\nprint(f\"  GPT-2 quebrou em {len(gpt2_tokens)} pedaços\")\nprint(f\"  GPT-4 quebrou em {len(gpt4_tokens)} pedaços\")\nprint(\"\\n💡 Cada modelo 'vê' o texto de forma diferente!\")"
      ]
    },
    {
      "cell_type": "markdown",
      "metadata": {},
      "source": [
        "## 📊 Visualizando a Tokenização\n\nVamos criar algumas visualizações massa pra entender melhor como funciona!\n\n![](/Users/pedroguth/Downloads/Projetos/Book Maker/5-Imagens/introdução-à-llms-modulo-04_img_02.png)\n\n**Dica do Pedro:** Visualizar dados é sempre uma boa! Ajuda a \"ver\" o que tá rolando nos algoritmos. 📈"
      ]
    },
    {
      "cell_type": "code",
      "execution_count": null,
      "metadata": {},
      "outputs": [],
      "source": [
        "# Vamos criar visualizações incríveis sobre tokenização!\n\n# Preparando dados para comparação\ntextos_teste = [\n    \"Olá mundo\",\n    \"Inteligência artificial\", \n    \"Processamento de linguagem natural\",\n    \"Transformers são revolucionários\",\n    \"Machine learning é incrível\",\n    \"Deep learning mudou tudo\"\n]\n\n# Coleta dados de tokenização\nresultados = []\nfor texto in textos_teste:\n    bert_count = len(bert_tokenizer.tokenize(texto))\n    gpt2_count = len(gpt2_tokenizer.tokenize(texto))\n    gpt4_count = len(gpt4_tokenizer.encode(texto))\n    \n    resultados.append({\n        'texto': texto,\n        'BERT': bert_count,\n        'GPT-2': gpt2_count,\n        'GPT-4': gpt4_count\n    })\n\n# Gráfico de barras comparativo\nfig, (ax1, ax2) = plt.subplots(1, 2, figsize=(16, 6))\n\n# Subplot 1: Comparação de tokenizadores\ntextos_curtos = [t[:15] + '...' if len(t) > 15 else t for t in textos_teste]\nbert_counts = [r['BERT'] for r in resultados]\ngpt2_counts = [r['GPT-2'] for r in resultados]\ngpt4_counts = [r['GPT-4'] for r in resultados]\n\nx = np.arange(len(textos_curtos))\nwidth = 0.25\n\nax1.bar(x - width, bert_counts, width, label='BERT (WordPiece)', color='#FF6B6B', alpha=0.8)\nax1.bar(x, gpt2_counts, width, label='GPT-2 (BPE)', color='#4ECDC4', alpha=0.8)\nax1.bar(x + width, gpt4_counts, width, label='GPT-4 (tiktoken)', color='#45B7D1', alpha=0.8)\n\nax1.set_xlabel('Textos de Teste')\nax1.set_ylabel('Número de Tokens')\nax1.set_title('🔍 Comparação de Tokenizadores')\nax1.set_xticks(x)\nax1.set_xticklabels(textos_curtos, rotation=45, ha='right')\nax1.legend()\nax1.grid(True, alpha=0.3)\n\n# Subplot 2: Eficiência por caractere\ncharacter_counts = [len(texto) for texto in textos_teste]\nbert_efficiency = [bert_counts[i]/character_counts[i] for i in range(len(textos_teste))]\ngpt2_efficiency = [gpt2_counts[i]/character_counts[i] for i in range(len(textos_teste))]\ngpt4_efficiency = [gpt4_counts[i]/character_counts[i] for i in range(len(textos_teste))]\n\nax2.plot(character_counts, bert_efficiency, 'o-', label='BERT', linewidth=2, markersize=8)\nax2.plot(character_counts, gpt2_efficiency, 's-', label='GPT-2', linewidth=2, markersize=8)\nax2.plot(character_counts, gpt4_efficiency, '^-', label='GPT-4', linewidth=2, markersize=8)\n\nax2.set_xlabel('Número de Caracteres')\nax2.set_ylabel('Tokens por Caractere')\nax2.set_title('📈 Eficiência da Tokenização')\nax2.legend()\nax2.grid(True, alpha=0.3)\n\nplt.tight_layout()\nplt.show()\n\nprint(\"🎯 Insights das visualizações:\")\nprint(\"  • Cada tokenizador tem comportamento diferente\")\nprint(\"  • Textos maiores geralmente são mais eficientes\")\nprint(\"  • GPT-4 tende a ser mais eficiente (menos tokens)\")"
      ]
    },
    {
      "cell_type": "code",
      "execution_count": null,
      "metadata": {},
      "outputs": [],
      "source": [
        "# Vamos criar uma nuvem de palavras dos tokens mais comuns!\n\n# Analisa vocabulário do GPT-2\nprint(\"🔍 Analisando vocabulário do GPT-2...\")\n\n# Pega alguns tokens do vocabulário\nvocab_gpt2 = gpt2_tokenizer.get_vocab()\ntoken_ids = list(range(0, min(1000, len(vocab_gpt2))))  # Primeiros 1000 tokens\ntokens_sample = [gpt2_tokenizer.decode([id]) for id in token_ids]\n\n# Remove tokens especiais e muito pequenos\ntokens_limpos = []\nfor token in tokens_sample:\n    token_clean = token.strip()\n    if len(token_clean) > 1 and token_clean.isalpha():\n        tokens_limpos.append(token_clean)\n\n# Cria frequências artificiais (em um caso real, usaríamos frequências do corpus)\nnp.random.seed(42)\nfrequencias = {token: np.random.randint(10, 100) for token in tokens_limpos[:100]}\n\n# Gera nuvem de palavras\nfig, (ax1, ax2) = plt.subplots(1, 2, figsize=(16, 8))\n\n# Nuvem de palavras\nwordcloud = WordCloud(width=400, height=400, \n                     background_color='white',\n                     colormap='viridis',\n                     max_words=50).generate_from_frequencies(frequencias)\n\nax1.imshow(wordcloud, interpolation='bilinear')\nax1.axis('off')\nax1.set_title('☁️ Nuvem de Tokens GPT-2', fontsize=16, pad=20)\n\n# Gráfico de barras dos mais frequentes\ntop_tokens = sorted(frequencias.items(), key=lambda x: x[1], reverse=True)[:15]\ntokens_top = [item[0] for item in top_tokens]\nfreqs_top = [item[1] for item in top_tokens]\n\nbars = ax2.barh(tokens_top, freqs_top, color=plt.cm.viridis(np.linspace(0, 1, len(tokens_top))))\nax2.set_xlabel('Frequência (simulada)')\nax2.set_title('📊 Top 15 Tokens Mais Frequentes')\nax2.grid(True, alpha=0.3)\n\n# Adiciona valores nas barras\nfor i, (bar, freq) in enumerate(zip(bars, freqs_top)):\n    ax2.text(freq + 1, i, str(freq), va='center', fontweight='bold')\n\nplt.tight_layout()\nplt.show()\n\nprint(f\"\\n📈 Estatísticas do vocabulário GPT-2:\")\nprint(f\"  • Tamanho total: {len(vocab_gpt2):,} tokens\")\nprint(f\"  • Tokens analisados: {len(tokens_limpos)}\")\nprint(f\"  • Token mais 'frequente': {top_tokens[0][0]}\")"
      ]
    },
    {
      "cell_type": "markdown",
      "metadata": {},
      "source": [
        "## ⚡ Tokens Especiais\n\nTá, mas além das palavras normais, existem tokens especiais que são **SUPER** importantes!\n\n### Principais Tokens Especiais:\n\n- **`<pad>`** - Padding (preenchimento)\n- **`<unk>`** - Unknown (desconhecido) \n- **`<start>/<s>`** - Início de sequência\n- **`<end>/</s>`** - Fim de sequência\n- **`<mask>`** - Mascaramento (BERT)\n- **`<cls>`** - Classificação\n- **`<sep>`** - Separador\n\n![](/Users/pedroguth/Downloads/Projetos/Book Maker/5-Imagens/introdução-à-llms-modulo-04_img_03.png)\n\n### Por que são importantes?\n\n1. **Estrutura**: Definem início/fim de textos\n2. **Padding**: Fazem sequências ficarem do mesmo tamanho\n3. **Mascaramento**: Permitem o treinamento do BERT\n4. **Separação**: Dividem diferentes partes do input\n\n**Dica do Pedro:** Os tokens especiais são tipo a \"pontuação\" do mundo das LLMs. Sem eles, seria bagunça total! 🎭"
      ]
    },
    {
      "cell_type": "code",
      "execution_count": null,
      "metadata": {},
      "outputs": [],
      "source": [
        "# Vamos explorar os tokens especiais dos diferentes modelos!\n\nprint(\"🎭 Explorando tokens especiais...\\n\")\n\n# BERT tokens especiais\nprint(\"🔍 BERT (WordPiece):\")\nbert_especiais = {\n    'PAD': bert_tokenizer.pad_token,\n    'UNK': bert_tokenizer.unk_token, \n    'CLS': bert_tokenizer.cls_token,\n    'SEP': bert_tokenizer.sep_token,\n    'MASK': bert_tokenizer.mask_token\n}\n\nfor nome, token in bert_especiais.items():\n    if token:\n        token_id = bert_tokenizer.convert_tokens_to_ids(token)\n        print(f\"  {nome}: '{token}' (ID: {token_id})\")\n\n# GPT-2 tokens especiais  \nprint(\"\\n🔍 GPT-2 (BPE):\")\ngpt2_especiais = {\n    'PAD': gpt2_tokenizer.pad_token,\n    'UNK': gpt2_tokenizer.unk_token,\n    'BOS': gpt2_tokenizer.bos_token,\n    'EOS': gpt2_tokenizer.eos_token\n}\n\nfor nome, token in gpt2_especiais.items():\n    if token:\n        token_id = gpt2_tokenizer.convert_tokens_to_ids(token)\n        print(f\"  {nome}: '{token}' (ID: {token_id})\")\n    else:\n        print(f\"  {nome}: None (não definido)\")\n\n# Exemplo prático: como o BERT processa uma frase\nprint(\"\\n🛠️ Exemplo prático - BERT processando:\")\nfrase = \"Olá! Como vai?\"\nprint(f\"\\nTexto: '{frase}'\")\n\n# Tokenização completa do BERT\ntokens_bert = bert_tokenizer.tokenize(frase)\nprint(f\"Tokens: {tokens_bert}\")\n\n# Com tokens especiais\ninput_ids = bert_tokenizer.encode(frase)\ntokens_completos = bert_tokenizer.convert_ids_to_tokens(input_ids)\nprint(f\"Com especiais: {tokens_completos}\")\nprint(f\"IDs: {input_ids}\")\n\n# Explicação\nprint(\"\\n💡 O que aconteceu:\")\nprint(f\"  • [CLS] foi adicionado no início (ID: {input_ids[0]})\")\nprint(f\"  • [SEP] foi adicionado no final (ID: {input_ids[-1]})\")\nprint(f\"  • Total de tokens: {len(input_ids)}\")"
      ]
    },
    {
      "cell_type": "code",
      "execution_count": null,
      "metadata": {},
      "outputs": [],
      "source": [
        "# Vamos simular como funciona o padding com tokens especiais!\n\nprint(\"🎯 Simulando padding com tokens especiais\\n\")\n\n# Várias frases de tamanhos diferentes\nfrases = [\n    \"Oi!\",\n    \"Como você está hoje?\", \n    \"Inteligência artificial é incrível e está mudando o mundo\",\n    \"Tokens\"\n]\n\n# Tokeniza todas as frases\ntokens_por_frase = []\nids_por_frase = []\n\nfor i, frase in enumerate(frases):\n    tokens = bert_tokenizer.tokenize(frase)\n    ids = bert_tokenizer.encode(frase, add_special_tokens=True)\n    tokens_por_frase.append(tokens)\n    ids_por_frase.append(ids)\n    print(f\"Frase {i+1}: '{frase}'\")\n    print(f\"  Tokens: {tokens}\")\n    print(f\"  IDs: {ids}\")\n    print(f\"  Comprimento: {len(ids)} tokens\\n\")\n\n# Encontra o tamanho máximo\nmax_length = max(len(ids) for ids in ids_por_frase)\nprint(f\"📏 Tamanho máximo necessário: {max_length} tokens\")\n\n# Aplica padding\nprint(\"\\n🔧 Aplicando padding:\")\nids_padded = []\nattention_masks = []\n\nfor i, ids in enumerate(ids_por_frase):\n    # Padding\n    padding_length = max_length - len(ids)\n    ids_pad = ids + [bert_tokenizer.pad_token_id] * padding_length\n    \n    # Attention mask (1 para tokens reais, 0 para padding)\n    attention_mask = [1] * len(ids) + [0] * padding_length\n    \n    ids_padded.append(ids_pad)\n    attention_masks.append(attention_mask)\n    \n    print(f\"\\nFrase {i+1} (padded):\")\n    print(f\"  IDs: {ids_pad}\")\n    print(f\"  Mask: {attention_mask}\")\n    print(f\"  Comprimento: {len(ids_pad)} tokens\")\n\nprint(\"\\n✅ Agora todas as frases têm o mesmo tamanho!\")\nprint(\"💡 O modelo usa a attention mask para ignorar os tokens de padding\")"
      ]
    },
    {
      "cell_type": "markdown",
      "metadata": {},
      "source": [
        "## 🎨 Visualizando o Processo Completo\n\nVamos criar um diagrama que mostra todo o pipeline de tokenização!\n\n```mermaid\ngraph TD\n    A[\"📝 Texto Original<br/>Inteligência Artificial\"] --> B[\"🧹 Pré-processamento<br/>Limpar, normalizar\"]\n    B --> C[\"⚡ Tokenização<br/>WordPiece/BPE/SentencePiece\"]\n    C --> D[\"🏷️ Adicionar Tokens Especiais<br/>[CLS] + tokens + [SEP]\"]\n    D --> E[\"🔢 Conversão para IDs<br/>[101, 1234, 5678, 102]\"]\n    E --> F[\"📏 Padding<br/>Mesmo tamanho\"]\n    F --> G[\"🎭 Attention Masks<br/>1s e 0s\"]\n    G --> H[\"🚀 Pronto para o Modelo!\"]\n```\n\n**Dica do Pedro:** Esse pipeline é o coração do processamento de texto nas LLMs! Cada etapa é crucial. 💖"
      ]
    },
    {
      "cell_type": "code",
      "execution_count": null,
      "metadata": {},
      "outputs": [],
      "source": [
        "# Vamos criar uma visualização do pipeline completo!\n\ndef visualizar_pipeline_tokenizacao(texto, tokenizer, modelo_nome):\n    \"\"\"Visualiza todo o pipeline de tokenização\"\"\"\n    print(f\"\\n🎬 Pipeline de Tokenização - {modelo_nome}\")\n    print(\"=\" * 50)\n    \n    # Etapa 1: Texto original\n    print(f\"\\n1️⃣ Texto Original:\")\n    print(f\"   '{texto}'\")\n    print(f\"   📊 {len(texto)} caracteres\")\n    \n    # Etapa 2: Tokenização básica\n    print(f\"\\n2️⃣ Tokenização:\")\n    tokens = tokenizer.tokenize(texto)\n    print(f\"   Tokens: {tokens}\")\n    print(f\"   📊 {len(tokens)} tokens\")\n    \n    # Etapa 3: Com tokens especiais\n    print(f\"\\n3️⃣ Com Tokens Especiais:\")\n    input_ids = tokenizer.encode(texto, add_special_tokens=True)\n    tokens_completos = tokenizer.convert_ids_to_tokens(input_ids)\n    print(f\"   Tokens: {tokens_completos}\")\n    print(f\"   📊 {len(tokens_completos)} tokens\")\n    \n    # Etapa 4: IDs numéricos\n    print(f\"\\n4️⃣ IDs Numéricos:\")\n    print(f\"   {input_ids}\")\n    \n    # Etapa 5: Com padding (simulado para tamanho 15)\n    print(f\"\\n5️⃣ Com Padding (max_length=15):\")\n    if len(input_ids) < 15:\n        padded_ids = input_ids + [tokenizer.pad_token_id] * (15 - len(input_ids))\n        attention_mask = [1] * len(input_ids) + [0] * (15 - len(input_ids))\n    else:\n        padded_ids = input_ids[:15]\n        attention_mask = [1] * 15\n    \n    print(f\"   IDs: {padded_ids}\")\n    print(f\"   Mask: {attention_mask}\")\n    \n    return {\n        'tokens': tokens,\n        'tokens_completos': tokens_completos,\n        'input_ids': input_ids,\n        'padded_ids': padded_ids,\n        'attention_mask': attention_mask\n    }\n\n# Testa com diferentes modelos\ntexto_exemplo = \"Transformers são revolucionários!\"\n\n# BERT\nresult_bert = visualizar_pipeline_tokenizacao(texto_exemplo, bert_tokenizer, \"BERT\")\n\n# GPT-2 \nresult_gpt2 = visualizar_pipeline_tokenizacao(texto_exemplo, gpt2_tokenizer, \"GPT-2\")\n\nprint(\"\\n🏆 Resumo Comparativo:\")\nprint(f\"  BERT: {len(result_bert['input_ids'])} tokens\")\nprint(f\"  GPT-2: {len(result_gpt2['input_ids'])} tokens\")\nprint(\"\\n💡 Diferentes modelos = diferentes 'visões' do mesmo texto!\")"
      ]
    },
    {
      "cell_type": "markdown",
      "metadata": {},
      "source": [
        "## 💰 Impacto dos Tokens nos Custos\n\nTá, agora vem uma parte **MUITO** importante pra quem vai usar LLMs em produção: **CUSTOS**! 💸\n\n### Por que tokens importam financeiramente?\n\n- **APIs cobram por token**: GPT-4, Claude, etc.\n- **Modelos têm limites**: Context window (janela de contexto)\n- **Processamento custa**: Mais tokens = mais compute\n\n### Exemplo de Custos (aproximados):\n- **GPT-4**: ~$0.03 por 1K tokens (input)\n- **GPT-3.5**: ~$0.002 por 1K tokens (input)  \n- **Claude**: Varia entre $0.008-0.024 por 1K tokens\n\n![](/Users/pedroguth/Downloads/Projetos/Book Maker/5-Imagens/introdução-à-llms-modulo-04_img_04.png)\n\n**Dica do Pedro:** Sempre otimize seus prompts! Um prompt mal feito pode custar 3x mais que um otimizado. É tipo escolher entre Uber e ônibus! 🚌💰"
      ]
    },
    {
      "cell_type": "code",
      "execution_count": null,
      "metadata": {},
      "outputs": [],
      "source": [
        "# Vamos criar uma calculadora de custos de tokens!\n\nclass CalculadoraCustoTokens:\n    def __init__(self):\n        # Preços aproximados por 1K tokens (USD) - Março 2024\n        self.precos = {\n            'GPT-4': {'input': 0.03, 'output': 0.06},\n            'GPT-3.5-turbo': {'input': 0.0015, 'output': 0.002}, \n            'Claude-3-Opus': {'input': 0.015, 'output': 0.075},\n            'Claude-3-Sonnet': {'input': 0.003, 'output': 0.015}\n        }\n    \n    def calcular_custo(self, modelo, tokens_input, tokens_output=0):\n        \"\"\"Calcula o custo baseado no número de tokens\"\"\"\n        if modelo not in self.precos:\n            return None\n            \n        custo_input = (tokens_input / 1000) * self.precos[modelo]['input']\n        custo_output = (tokens_output / 1000) * self.precos[modelo]['output']\n        \n        return {\n            'custo_input': custo_input,\n            'custo_output': custo_output,\n            'custo_total': custo_input + custo_output\n        }\n    \n    def comparar_modelos(self, tokens_input, tokens_output=0):\n        \"\"\"Compara custos entre diferentes modelos\"\"\"\n        resultados = {}\n        for modelo in self.precos.keys():\n            resultados[modelo] = self.calcular_custo(modelo, tokens_input, tokens_output)\n        return resultados\n\n# Exemplo prático: analisando custos\ncalculadora = CalculadoraCustoTokens()\n\n# Cenários de uso\ncearios = [\n    {\"nome\": \"Prompt simples\", \"input\": 50, \"output\": 100},\n    {\"nome\": \"Análise de documento\", \"input\": 2000, \"output\": 500},\n    {\"nome\": \"Processamento em lote\", \"input\": 10000, \"output\": 3000},\n    {\"nome\": \"Chatbot diário\", \"input\": 50000, \"output\": 25000}\n]\n\nprint(\"💰 Calculadora de Custos por Tokens\\n\")\n\nfor cenario in cearios:\n    print(f\"🎯 Cenário: {cenario['nome']}\")\n    print(f\"   Input: {cenario['input']:,} tokens\")\n    print(f\"   Output: {cenario['output']:,} tokens\")\n    print(\"   Custos por modelo:\")\n    \n    comparacao = calculadora.comparar_modelos(cenario['input'], cenario['output'])\n    \n    for modelo, custos in comparacao.items():\n        total = custos['custo_total']\n        print(f\"     {modelo}: ${total:.4f}\")\n    \n    # Mostra o mais barato e mais caro\n    custos_ordenados = sorted(comparacao.items(), key=lambda x: x[1]['custo_total'])\n    mais_barato = custos_ordenados[0]\n    mais_caro = custos_ordenados[-1]\n    \n    diferenca = mais_caro[1]['custo_total'] / mais_barato[1]['custo_total']\n    \n    print(f\"   💡 Mais barato: {mais_barato[0]} (${mais_barato[1]['custo_total']:.4f})\")\n    print(f\"   💸 Diferença: {diferenca:.1f}x mais caro que o mais barato\\n\")\n\nprint(\"📊 Dicas para otimizar custos:\")\nprint(\"  • Use prompts concisos\")\nprint(\"  • Reutilize contexto quando possível\")\nprint(\"  • Escolha o modelo adequado para a tarefa\")\nprint(\"  • Monitore uso de tokens em produção\")"
      ]
    },
    {
      "cell_type": "code",
      "execution_count": null,
      "metadata": {},
      "outputs": [],
      "source": [
        "# Vamos criar um gráfico de custos por modelo!\n\n# Preparando dados para visualização\nmodelos = list(calculadora.precos.keys())\ntokens_cenarios = [100, 500, 1000, 5000, 10000]\n\n# Calcula custos para cada cenário (assumindo output = 50% do input)\ncustos_por_modelo = {modelo: [] for modelo in modelos}\n\nfor tokens in tokens_cenarios:\n    tokens_output = tokens // 2  # 50% do input\n    for modelo in modelos:\n        custo = calculadora.calcular_custo(modelo, tokens, tokens_output)\n        custos_por_modelo[modelo].append(custo['custo_total'])\n\n# Cria o gráfico\nfig, (ax1, ax2) = plt.subplots(1, 2, figsize=(16, 6))\n\n# Gráfico 1: Custos por número de tokens\ncolors = ['#FF6B6B', '#4ECDC4', '#45B7D1', '#96CEB4']\nfor i, (modelo, custos) in enumerate(custos_por_modelo.items()):\n    ax1.plot(tokens_cenarios, custos, marker='o', linewidth=2.5, \n            label=modelo, color=colors[i], markersize=8)\n\nax1.set_xlabel('Número de Tokens (Input)')\nax1.set_ylabel('Custo Total (USD)')\nax1.set_title('💰 Custos por Modelo vs Número de Tokens')\nax1.legend()\nax1.grid(True, alpha=0.3)\nax1.set_yscale('log')\n\n# Gráfico 2: Comparação de preços por 1K tokens\nprecos_input = [calculadora.precos[modelo]['input'] for modelo in modelos]\nprecos_output = [calculadora.precos[modelo]['output'] for modelo in modelos]\n\nx_pos = np.arange(len(modelos))\nwidth = 0.35\n\nax2.bar(x_pos - width/2, precos_input, width, label='Input', \n       color='lightblue', alpha=0.8)\nax2.bar(x_pos + width/2, precos_output, width, label='Output', \n       color='lightcoral', alpha=0.8)\n\nax2.set_xlabel('Modelos')\nax2.set_ylabel('Preço por 1K Tokens (USD)')\nax2.set_title('📊 Preços Input vs Output por Modelo')\nax2.set_xticks(x_pos)\nax2.set_xticklabels([modelo.replace('-', '\\n') for modelo in modelos], rotation=45)\nax2.legend()\nax2.grid(True, alpha=0.3)\n\n# Adiciona valores nas barras\nfor i, (inp, out) in enumerate(zip(precos_input, precos_output)):\n    ax2.text(i - width/2, inp + 0.001, f'${inp:.3f}', \n            ha='center', va='bottom', fontweight='bold', fontsize=9)\n    ax2.text(i + width/2, out + 0.001, f'${out:.3f}', \n            ha='center', va='bottom', fontweight='bold', fontsize=9)\n\nplt.tight_layout()\nplt.show()\n\n# Insights\nprint(\"🎯 Insights dos gráficos:\")\nprint(\"  • Custos crescem linearmente com tokens\")\nprint(\"  • Output geralmente custa 2-5x mais que input\")\nprint(\"  • GPT-3.5 é muito mais barato para tarefas simples\")\nprint(\"  • Diferenças ficam enormes em grande escala!\")"
      ]
    },
    {
      "cell_type": "markdown",
      "metadata": {},
      "source": [
        "## 🚀 Exercício Prático 1: Analisador de Textos\n\n**Desafio:** Crie um analisador que compara diferentes aspectos da tokenização!\n\n### Sua missão:\n1. Receber um texto qualquer\n2. Analisar com 3 tokenizadores diferentes\n3. Calcular estatísticas comparativas\n4. Gerar um relatório visual\n\n**Dica do Pedro:** Use tudo que aprendemos até agora! Seja criativo! 🎨"
      ]
    },
    {
      "cell_type": "code",
      "execution_count": null,
      "metadata": {},
      "outputs": [],
      "source": [
        "# 🎯 EXERCÍCIO PRÁTICO 1: Analisador de Textos\n# Complete o código abaixo!\n\nclass AnalisadorTokenizacao:\n    def __init__(self):\n        # TODO: Inicializar tokenizadores\n        # self.bert_tokenizer = ???\n        # self.gpt2_tokenizer = ???\n        # (Use os tokenizadores já carregados)\n        pass\n    \n    def analisar_texto(self, texto):\n        \"\"\"Analisa um texto com múltiplos tokenizadores\"\"\"\n        # TODO: Implementar análise completa\n        resultados = {\n            'texto_original': texto,\n            'caracteres': len(texto),\n            'palavras': len(texto.split()),\n            'bert': {\n                # TODO: Preencher com análise BERT\n                'tokens': None,\n                'num_tokens': None,\n                'tokens_especiais': None\n            },\n            'gpt2': {\n                # TODO: Preencher com análise GPT-2\n                'tokens': None,\n                'num_tokens': None,\n                'eficiencia': None  # tokens por palavra\n            }\n        }\n        \n        return resultados\n    \n    def gerar_relatorio(self, resultados):\n        \"\"\"Gera um relatório visual dos resultados\"\"\"\n        # TODO: Criar visualizações\n        # Dicas: gráfico de barras, estatísticas, comparações\n        pass\n\n# Seu código aqui!\n# analisador = AnalisadorTokenizacao()\n# resultado = analisador.analisar_texto(\"Sua frase de teste aqui!\")\n# analisador.gerar_relatorio(resultado)\n\nprint(\"🎯 Complete o código acima!\")\nprint(\"💡 Dicas:\")\nprint(\"  • Use os tokenizadores já carregados\")\nprint(\"  • Calcule estatísticas interessantes\")\nprint(\"  • Crie gráficos comparativos\")\nprint(\"  • Seja criativo com as análises!\")"
      ]
    },
    {
      "cell_type": "markdown",
      "metadata": {},
      "source": [
        "## 🎲 Exercício Prático 2: Otimizador de Prompts\n\n**Desafio Avançado:** Crie uma ferramenta que otimiza prompts para reduzir custos!\n\n### Objetivos:\n1. Receber um prompt \"verboso\"\n2. Sugerir otimizações\n3. Comparar custos antes/depois\n4. Manter a qualidade do prompt\n\n**Técnicas para usar:**\n- Remoção de palavras desnecessárias\n- Substituição por sinônimos mais curtos\n- Reorganização da estrutura\n- Uso de abreviações quando apropriado\n\n"
      ]
    },
    {
      "cell_type": "code",
      "execution_count": null,
      "metadata": {},
      "outputs": [],
      "source": [
        "# 🎯 EXERCÍCIO PRÁTICO 2: Otimizador de Prompts\n# Implemente as funções abaixo!\n\nclass OtimizadorPrompts:\n    def __init__(self):\n        # Dicionário de substituições para otimização\n        self.substituicoes = {\n            'por favor': 'pls',\n            'você pode': 'pode',\n            'muito obrigado': 'obrigado',\n            'inteligência artificial': 'IA',\n            'aprendizado de máquina': 'ML',\n            'processamento de linguagem natural': 'NLP',\n            # TODO: Adicione mais substituições!\n        }\n        \n        # Palavras que podem ser removidas\n        self.palavras_removiveis = [\n            'realmente', 'absolutamente', 'definitivamente',\n            'por favor', 'tipo', 'meio que'\n            # TODO: Adicione mais palavras!\n        ]\n    \n    def otimizar_prompt(self, prompt_original):\n        \"\"\"Otimiza um prompt para reduzir tokens\"\"\"\n        # TODO: Implementar otimização\n        # 1. Aplicar substituições\n        # 2. Remover palavras desnecessárias\n        # 3. Simplificar estruturas\n        \n        prompt_otimizado = prompt_original  # Placeholder\n        \n        return prompt_otimizado\n    \n    def comparar_custos(self, prompt_original, prompt_otimizado, modelo='GPT-4'):\n        \"\"\"Compara custos entre prompts\"\"\"\n        # TODO: Usar a calculadora de custos\n        # Calcular tokens e custos para ambos os prompts\n        pass\n    \n    def gerar_relatorio_otimizacao(self, prompt_original, prompt_otimizado):\n        \"\"\"Gera relatório da otimização\"\"\"\n        # TODO: Criar visualização comparativa\n        pass\n\n# Exemplo de uso:\nprompt_teste = \"\"\"\nOlá! Por favor, você pode me ajudar a criar um texto sobre inteligência artificial? \nEu realmente preciso de algo muito detalhado e definitivamente completo sobre \naprendizado de máquina e processamento de linguagem natural. Muito obrigado!\n\"\"\"\n\n# Seu código aqui!\n# otimizador = OtimizadorPrompts()\n# prompt_otimizado = otimizador.otimizar_prompt(prompt_teste)\n# otimizador.gerar_relatorio_otimizacao(prompt_teste, prompt_otimizado)\n\nprint(\"🎯 Implemente o otimizador de prompts!\")\nprint(\"\\n💡 Estratégias de otimização:\")\nprint(\"  • Substituir termos longos por abreviações\")\nprint(\"  • Remover palavras redundantes\")\nprint(\"  • Usar estruturas mais concisas\")\nprint(\"  • Manter o significado original\")\nprint(\"\\n🏆 Meta: Reduzir 30-50% dos tokens!\")"
      ]
    },
    {
      "cell_type": "markdown",
      "metadata": {},
      "source": [
        "## 🔗 Conexão com Próximos Módulos\n\nAgora que você domina tokens, vamos ver como eles se conectam com o resto do curso!\n\n### 🎯 Módulo 5 - Embeddings e Representações:\n- **Tokens → Embeddings**: Como tokens viram vetores\n- **Vocabulary embeddings**: Cada token tem sua representação\n- **Dimensionalidade**: Geralmente 512, 768 ou 1024 dimensões\n\n### 🎯 Módulo 6 - Tipos de Modelos:\n- **Encoder-only** (BERT): Usa tokens especiais como [CLS], [SEP]\n- **Decoder-only** (GPT): Gera tokens sequencialmente\n- **Encoder-decoder** (T5): Combina ambos os approaches\n\n### 🎯 Módulo 8 - Prompting:\n- **Prompt engineering**: Otimizar tokens para melhores respostas\n- **Context window**: Limite de tokens por interação\n- **Token budgeting**: Gerenciar tokens em aplicações\n\n**Dica do Pedro:** Tokens são a fundação de tudo! Entender bem esse módulo vai te ajudar muito nos próximos! 🏗️"
      ]
    },
    {
      "cell_type": "code",
      "execution_count": null,
      "metadata": {},
      "outputs": [],
      "source": [
        "# Vamos criar uma prévia do que vem por aí!\n\nprint(\"🔮 Prévia dos Próximos Módulos\\n\")\n\n# Simulando como tokens viram embeddings (Módulo 5)\nprint(\"🎯 Módulo 5 - De Tokens para Embeddings:\")\ntexto_exemplo = \"IA é incrível\"\ntokens = bert_tokenizer.tokenize(texto_exemplo)\nprint(f\"  Tokens: {tokens}\")\nprint(f\"  Cada token vai virar um vetor de 768 dimensões!\")\nprint(f\"  Exemplo: 'IA' → [0.1, -0.3, 0.7, ..., 0.2] (768 números)\")\n\n# Context window (importante para Módulo 8)\nprint(\"\\n🎯 Módulo 8 - Context Window:\")\nmodelos_limits = {\n    'GPT-3.5': '4K tokens',\n    'GPT-4': '8K-32K tokens', \n    'Claude-3': '200K tokens',\n    'Gemini-Pro': '1M tokens'\n}\n\nfor modelo, limite in modelos_limits.items():\n    print(f\"  {modelo}: {limite}\")\n\nprint(\"\\n💡 Quanto mais tokens, mais 'memória' o modelo tem!\")\n\n# Tipos de modelos (Módulo 6)\nprint(\"\\n🎯 Módulo 6 - Como diferentes arquiteturas usam tokens:\")\nprint(\"  • BERT (Encoder): Vê todos os tokens simultaneamente\")\nprint(\"  • GPT (Decoder): Gera um token por vez\")\nprint(\"  • T5 (Encoder-Decoder): Combina ambas estratégias\")\n\n# Exemplo de geração sequencial\nprint(\"\\n🤖 Como o GPT geraria: 'A IA vai'\")\nsteps = [\n    \"Input: 'A IA vai' → Próximo token: 'revolucionar' (prob: 0.7)\",\n    \"Input: 'A IA vai revolucionar' → Próximo token: 'o' (prob: 0.8)\", \n    \"Input: 'A IA vai revolucionar o' → Próximo token: 'mundo' (prob: 0.6)\"\n]\n\nfor i, step in enumerate(steps, 1):\n    print(f\"  {i}. {step}\")\n    \nprint(\"\\n🚀 Muito mais vem por aí! Tokens são só o começo!\")"
      ]
    },
    {
      "cell_type": "markdown",
      "metadata": {},
      "source": [
        "## 🎉 Resumo do Módulo\n\n**Liiindo! Você agora é um expert em tokens!** 🏆\n\n### 🧠 O que aprendemos:\n\n1. **Conceitos Fundamentais**:\n   - O que são tokens e por que existem\n   - Diferença entre caracteres, palavras e subwords\n   - Importância da tokenização para LLMs\n\n2. **Algoritmos de Tokenização**:\n   - **BPE**: Usado pelo GPT\n   - **WordPiece**: Usado pelo BERT\n   - **SentencePiece**: Mais moderno e flexível\n\n3. **Tokens Especiais**:\n   - `<pad>`, `<unk>`, `<start>`, `<end>`\n   - Como estruturam o processamento\n   - Padding e attention masks\n\n4. **Aspectos Práticos**:\n   - **Custos**: Tokens = dinheiro em APIs\n   - **Otimização**: Como reduzir tokens\n   - **Context window**: Limites dos modelos\n\n5. **Pipeline Completo**:\n   - Texto → Tokens → IDs → Padding → Modelo\n   - Cada etapa é crucial!\n\n### 🔑 Pontos-chave para lembrar:\n\n- **Diferentes modelos = diferentes tokenizações**\n- **Mais tokens = mais custos**\n- **Tokens especiais são fundamentais**\n- **Otimização de prompts é essencial**\n\n![](/Users/pedroguth/Downloads/Projetos/Book Maker/5-Imagens/introdução-à-llms-modulo-04_img_06.png)\n\n### 🚀 Próximos passos:\n\nNo **Módulo 5**, vamos ver como esses tokens viram **embeddings** - representações numéricas que os modelos realmente entendem!\n\n**Dica final do Pedro:** Tokens são a \"linguagem\" que você usa pra conversar com as LLMs. Dominar isso é tipo aprender o \"dialeto\" da IA! 🤖💬\n\n---\n\n**Parabéns por completar o Módulo 4!** 🎊\n\n*Continue praticando com os exercícios e nos vemos no próximo módulo!*"
      ]
    }
  ]
}